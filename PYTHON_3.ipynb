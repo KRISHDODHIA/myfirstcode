{
 "cells": [
  {
   "cell_type": "code",
   "execution_count": 7,
   "id": "9af644fc",
   "metadata": {},
   "outputs": [
    {
     "name": "stdout",
     "output_type": "stream",
     "text": [
      "THE FINAL PRODUCT IS: 580800\n"
     ]
    }
   ],
   "source": [
    "#1.Write a Python program to calculate the product, multiplying all the numbers in a given tuple.\n",
    " \n",
    "tup1=(2,4,5,1,44,66,5)\n",
    "multiply=1\n",
    "for i in tup1:\n",
    "    multiply*=i\n",
    "    \n",
    "print(\"THE FINAL PRODUCT IS:\",multiply)"
   ]
  },
  {
   "cell_type": "code",
   "execution_count": 4,
   "id": "65ae592d",
   "metadata": {},
   "outputs": [
    {
     "name": "stdout",
     "output_type": "stream",
     "text": [
      "The average of each tuple is: [2.0, 5.0, 8.0]\n"
     ]
    }
   ],
   "source": [
    "#2.Write a Python program to calculate the average value of the numbers in a given tuple of tuples.\n",
    "def avg(tuple_of_tuples):\n",
    "    averages = []\n",
    "\n",
    "    for i in tuple_of_tuples:\n",
    "        total_sum = sum(i)\n",
    "        total_count = len(i)\n",
    "\n",
    "        if total_count == 0:\n",
    "            averages.append(0)  \n",
    "        else:\n",
    "            average = total_sum / total_count\n",
    "            averages.append(average)\n",
    "\n",
    "    return averages\n",
    "\n",
    "# Example usage:\n",
    "tuple_of_tuples = ((1, 2, 3), (4, 5, 6), (7, 8, 9))\n",
    "result = average_of_each_tuple(tuple_of_tuples)\n",
    "print(f\"The average of each tuple is: {result}\")\n"
   ]
  }
 ],
 "metadata": {
  "kernelspec": {
   "display_name": "Python 3 (ipykernel)",
   "language": "python",
   "name": "python3"
  },
  "language_info": {
   "codemirror_mode": {
    "name": "ipython",
    "version": 3
   },
   "file_extension": ".py",
   "mimetype": "text/x-python",
   "name": "python",
   "nbconvert_exporter": "python",
   "pygments_lexer": "ipython3",
   "version": "3.9.13"
  }
 },
 "nbformat": 4,
 "nbformat_minor": 5
}
