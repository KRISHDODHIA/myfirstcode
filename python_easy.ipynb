{
 "cells": [
  {
   "cell_type": "code",
   "execution_count": 1,
   "id": "4bc055b8",
   "metadata": {},
   "outputs": [
    {
     "name": "stdout",
     "output_type": "stream",
     "text": [
      "Enter number 1:- 88\n",
      "Enter number 2:- 66\n",
      "sum of two numbers is:  154\n"
     ]
    }
   ],
   "source": [
    "num1=int(input(\"Enter number 1:- \"))\n",
    "num2=int(input(\"Enter number 2:- \"))\n",
    "\n",
    "sum1=num1+num2\n",
    "print(\"sum of two numbers is: \",sum1)"
   ]
  },
  {
   "cell_type": "code",
   "execution_count": 4,
   "id": "bd88f62e",
   "metadata": {},
   "outputs": [
    {
     "name": "stdout",
     "output_type": "stream",
     "text": [
      "Enter number 1:- 88\n",
      "Enter number 2:- 88\n",
      "88 is equal to 88\n"
     ]
    }
   ],
   "source": [
    "num1=int(input(\"Enter number 1:- \"))\n",
    "num2=int(input(\"Enter number 2:- \"))\n",
    "\n",
    "if num1>num2:\n",
    "    print(num1,\"is greater than\",num2)\n",
    "elif num1==num2:\n",
    "    print(num1,\"is equal to\",num2)\n",
    "else:\n",
    "    print(num2,\"is greater than\",num1)"
   ]
  },
  {
   "cell_type": "code",
   "execution_count": 2,
   "id": "76f544aa",
   "metadata": {},
   "outputs": [
    {
     "name": "stdout",
     "output_type": "stream",
     "text": [
      "enter a number: 4\n",
      "24\n"
     ]
    }
   ],
   "source": [
    "num=int(input(\"enter a number: \"))\n",
    "fact=1\n",
    "for i in range(1,num+1):\n",
    "    fact=fact*i\n",
    "print(fact)\n"
   ]
  },
  {
   "cell_type": "code",
   "execution_count": 8,
   "id": "f34c61dd",
   "metadata": {},
   "outputs": [
    {
     "name": "stdout",
     "output_type": "stream",
     "text": [
      "enter principal amount: 50000\n",
      "enter the rate of intrest: 10\n",
      "enter the time for investement: 2\n",
      "10000.0\n"
     ]
    }
   ],
   "source": [
    "p=int(input(\"enter principal amount: \"))\n",
    "r=float(input(\"enter the rate of intrest: \"))\n",
    "t=float(input(\"enter the time for investement: \"))\n",
    " \n",
    "si=(p*r*t)/100\n",
    "print(si)"
   ]
  },
  {
   "cell_type": "code",
   "execution_count": 9,
   "id": "3585c1e4",
   "metadata": {},
   "outputs": [
    {
     "name": "stdout",
     "output_type": "stream",
     "text": [
      "enter principal amount: 50000\n",
      "enter the rate of intrest: 10\n",
      "enter the time for investement: 2\n",
      "60500.00000000001\n"
     ]
    }
   ],
   "source": [
    "p=float(input(\"enter principal amount: \"))\n",
    "r=float(input(\"enter the rate of intrest: \"))\n",
    "t=float(input(\"enter the time for investement: \"))\n",
    "\n",
    "a=p*(1+(r/100))**t\n",
    "\n",
    "print(a)"
   ]
  },
  {
   "cell_type": "code",
   "execution_count": 11,
   "id": "a2129776",
   "metadata": {},
   "outputs": [
    {
     "name": "stdout",
     "output_type": "stream",
     "text": [
      "Enter Principle Amount: 50000\n",
      "Enter Rate of interest: 10\n",
      "Enter Time in Years: 2\n",
      "Enter Number of times interest is compunded per year: 1\n",
      "Compound interest is 6050000.0\n"
     ]
    }
   ],
   "source": [
    "p=float(input(\"Enter Principle Amount: \"))\n",
    "r=float(input(\"Enter Rate of interest: \"))\n",
    "r1=r/100\n",
    "t=float(input(\"Enter Time in Years: \"))\n",
    "n=float(input(\"Enter Number of times interest is compunded per year: \"))\n",
    "q=n*t\n",
    "total=p*(1+(r1/n))**q\n",
    "print(f\"Compound interest is {total}\")"
   ]
  },
  {
   "cell_type": "code",
   "execution_count": 18,
   "id": "93ee1c5e",
   "metadata": {},
   "outputs": [
    {
     "name": "stdout",
     "output_type": "stream",
     "text": [
      "enter number: 1634\n",
      "Armstrong\n"
     ]
    }
   ],
   "source": [
    "num=input(\"enter number: \")\n",
    "sum=0\n",
    "l=len(num)\n",
    "for i in num:\n",
    "    i=int(i)\n",
    "    sum+=i**l\n",
    "if sum==int(num):\n",
    "    print(\"Armstrong\")\n",
    "else:\n",
    "    print(\"Not armstrong\")"
   ]
  },
  {
   "cell_type": "code",
   "execution_count": 19,
   "id": "ae2cfb77",
   "metadata": {},
   "outputs": [
    {
     "name": "stdout",
     "output_type": "stream",
     "text": [
      "enter a number: 3\n",
      "28.26\n"
     ]
    }
   ],
   "source": [
    "r=int(input(\"enter a number: \"))\n",
    "area=3.14*r**2\n",
    "print(area)"
   ]
  },
  {
   "cell_type": "code",
   "execution_count": 20,
   "id": "257e22a6",
   "metadata": {},
   "outputs": [
    {
     "name": "stdout",
     "output_type": "stream",
     "text": [
      "Enter upper bound1\n",
      "Enter upper bound10\n",
      "1\n",
      "2\n",
      "3\n",
      "5\n",
      "7\n"
     ]
    }
   ],
   "source": [
    "def prime(n):\n",
    "    count=0\n",
    "    for i in range(2,n):\n",
    "        if n%i==0:\n",
    "            count+=1\n",
    "    if count==0:\n",
    "        print(n)\n",
    "a=int(input(\"Enter upper bound\"))\n",
    "b=int(input(\"Enter upper bound\"))\n",
    "for i in range(a,b+1):\n",
    "    prime(i)\n"
   ]
  },
  {
   "cell_type": "code",
   "execution_count": 21,
   "id": "1b5a7340",
   "metadata": {},
   "outputs": [
    {
     "name": "stdout",
     "output_type": "stream",
     "text": [
      "Enter number12\n",
      "Not a prime number\n"
     ]
    }
   ],
   "source": [
    "num=int(input(\"Enter number\"))\n",
    "count=0\n",
    "for i in range(2,num):\n",
    "    if num%i==0:\n",
    "        count+=1\n",
    "if count!=0:\n",
    "    print(\"Not a prime number\")\n",
    "else:\n",
    "    print(\"Prime number\")\n",
    "    "
   ]
  },
  {
   "cell_type": "code",
   "execution_count": 1,
   "id": "5e84eeda",
   "metadata": {},
   "outputs": [
    {
     "name": "stdout",
     "output_type": "stream",
     "text": [
      "Enter number6\n",
      "0,1,1,2,3,5,"
     ]
    }
   ],
   "source": [
    "def fibonacci(n):\n",
    "    fibonacci=[0,1]\n",
    "    for i in range(n):\n",
    "        fibonacci+=[fibonacci[-1]+fibonacci[-2]]\n",
    "        print(fibonacci[i],end=',')\n",
    "fibonacci(int(input(\"Enter number\")))"
   ]
  },
  {
   "cell_type": "code",
   "execution_count": null,
   "id": "9125793f",
   "metadata": {},
   "outputs": [],
   "source": []
  }
 ],
 "metadata": {
  "kernelspec": {
   "display_name": "Python 3 (ipykernel)",
   "language": "python",
   "name": "python3"
  },
  "language_info": {
   "codemirror_mode": {
    "name": "ipython",
    "version": 3
   },
   "file_extension": ".py",
   "mimetype": "text/x-python",
   "name": "python",
   "nbconvert_exporter": "python",
   "pygments_lexer": "ipython3",
   "version": "3.9.13"
  }
 },
 "nbformat": 4,
 "nbformat_minor": 5
}
