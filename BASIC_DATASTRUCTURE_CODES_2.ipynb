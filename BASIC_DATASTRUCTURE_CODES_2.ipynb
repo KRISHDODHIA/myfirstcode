{
 "cells": [
  {
   "cell_type": "code",
   "execution_count": 7,
   "id": "700682c7",
   "metadata": {},
   "outputs": [
    {
     "name": "stdout",
     "output_type": "stream",
     "text": [
      "(1, 2, 3, 4)\n"
     ]
    }
   ],
   "source": [
    "#Q1} Write a python program to flatten tuple of list to tuple\n",
    "\n",
    "#1\n",
    "tup=([1,2],[3,4])\n",
    "tupnew=()\n",
    "for i in tup:\n",
    "    for j in i:\n",
    "        tupnew+=(j,)\n",
    "print(tupnew)"
   ]
  },
  {
   "cell_type": "code",
   "execution_count": 8,
   "id": "20df56cb",
   "metadata": {},
   "outputs": [
    {
     "name": "stdout",
     "output_type": "stream",
     "text": [
      "enter element: 1\n",
      "enter yes,no if u want to exit: 2\n",
      "enter element: 2\n",
      "enter yes,no if u want to exit: 3\n",
      "enter element: 3\n",
      "enter yes,no if u want to exit: 4\n",
      "enter element: 4\n",
      "enter yes,no if u want to exit: 5\n",
      "enter element: 5\n",
      "enter yes,no if u want to exit: yes\n",
      "{1, 2, 3, 4, 5}\n",
      "(1, 2, 3, 4, 5)\n",
      "{1, 2, 3, 4, 5}\n"
     ]
    }
   ],
   "source": [
    "#Q2} Python program to convert Set into Tuple and Tuple into Set\n",
    "set1=set()\n",
    "tup1=tuple()\n",
    "while True:\n",
    "    set1.add(int(input('enter element: ')))\n",
    "    vaa=input(\"enter yes,no if u want to exit: \")\n",
    "    if vaa==\"yes\":\n",
    "        break\n",
    "print(set1)\n",
    "new_tup=(tuple(set1))\n",
    "print(new_tup)\n",
    "\n",
    "new_set=(set(new_tup))\n",
    "print(new_set)"
   ]
  },
  {
   "cell_type": "code",
   "execution_count": 13,
   "id": "53f7efe0",
   "metadata": {},
   "outputs": [
    {
     "name": "stdout",
     "output_type": "stream",
     "text": [
      "(['a', 'krish', 'b', 'khushal', 'c', 'arsh'],)\n"
     ]
    }
   ],
   "source": [
    "#Q3}Convert List of Dictionary to Tuple list Python\n",
    "list1=[{\"a\":\"krish\",\"b\":\"khushal\",\"c\":\"arsh\"}]\n",
    " \n",
    "typ1=()\n",
    "for dictionary in list1:\n",
    "    list_new=[]\n",
    "    for i in dictionary:\n",
    "        list_new+=[i,dictionary[i]]\n",
    "    tup1+=(list_new,)\n",
    "print(tup1)"
   ]
  },
  {
   "cell_type": "code",
   "execution_count": 11,
   "id": "e2b5f7cf",
   "metadata": {},
   "outputs": [
    {
     "name": "stdout",
     "output_type": "stream",
     "text": [
      "\n",
      "Sort tuple list by nth element of tuple.\n",
      "Original list is: [(1, 2, 3), (98, 101, 95), (10, 22, 345), (0, 3, 4)]\n",
      "Enter place using which it should be sorted:3\n",
      "Sorted list is: [(10, 22, 345), (98, 101, 95), (0, 3, 4), (1, 2, 3)]\n"
     ]
    }
   ],
   "source": [
    "#Q4) Python Sort tuple list by Nth element of tuple\n",
    "print(\"\\nSort tuple list by nth element of tuple.\")\n",
    "l=[(1,2,3),(98,101,95),(10,22,345),(0,3,4)]\n",
    "print(\"Original list is:\",l)\n",
    "index=int(input(\"Enter place using which it should be sorted:\"))\n",
    "for i in range(len(l)-1):\n",
    "    for j in range(len(l)-i-1):\n",
    "        if l[j][index-1]<l[j+1][index-1]:\n",
    "            l[j],l[j+1]=l[j+1],l[j]\n",
    "print(\"Sorted list is:\",l)\n",
    "\n"
   ]
  },
  {
   "cell_type": "code",
   "execution_count": 13,
   "id": "b9a8b34e",
   "metadata": {},
   "outputs": [
    {
     "name": "stdout",
     "output_type": "stream",
     "text": [
      "\n",
      "Find tuple indices from other tuple list.\n",
      "test_list is: [(1, 2), (9, 10), (8, 16), (4, 8)]\n",
      "final_list is: [(1, 2), (8, 16), (8, 64)]\n",
      "The indices in test_list are: [0, 2] \n",
      "\n"
     ]
    }
   ],
   "source": [
    "#Q5}Python Program to find tuple indices from other tuple list\n",
    "print(\"\\nFind tuple indices from other tuple list.\")\n",
    "testlist=[(1,2),(9,10),(8,16),(4,8)]\n",
    "finallist=[(1,2),(8,16),(8,64)]\n",
    "print(\"test_list is:\",testlist)\n",
    "print(\"final_list is:\",finallist)\n",
    "l=[]\n",
    "dic={}\n",
    "for i in finallist:\n",
    "    if i in testlist:\n",
    "        dic[i]=testlist.index(i)\n",
    "        l+=[testlist.index(i)]\n",
    "print(\"The indices in test_list are:\",l,\"\\n\")\n",
    "\n"
   ]
  },
  {
   "cell_type": "code",
   "execution_count": 5,
   "id": "788a902b",
   "metadata": {},
   "outputs": [
    {
     "name": "stdout",
     "output_type": "stream",
     "text": [
      "\n",
      "Convert dictionary value list to dictionary list.\n",
      "Input dictionary is: {'krish': [1, 2, 3], 'khushal': [9, 8], 'arsh': [1]}\n",
      "Modified dictionary is: [{'krish': 1, 'khushal': 9, 'arsh': 1}, {'krish': 2, 'khushal': 8}, {'krish': 3}]\n"
     ]
    }
   ],
   "source": [
    "#Q6)Convert Dictionary Value list to Dictionary List Python\n",
    "print(\"\\nConvert dictionary value list to dictionary list.\")\n",
    "dictionary1={'krish':[1,2,3],'khushal':[9,8],'arsh':[1]}\n",
    "print(\"Input dictionary is:\",dic)\n",
    "n=0\n",
    "dic_new =[{} for n in range(len(dictionary1))]\n",
    "for i in dictionary1:\n",
    "    for key,value in dictionary1.items():\n",
    "        for val in value:\n",
    "            dic_new[n][key]=val\n",
    "            n+=1\n",
    "        n=0\n",
    "print(\"Modified dictionary is:\",dic_new)"
   ]
  },
  {
   "cell_type": "code",
   "execution_count": null,
   "id": "67d9f480",
   "metadata": {},
   "outputs": [],
   "source": []
  }
 ],
 "metadata": {
  "kernelspec": {
   "display_name": "Python 3 (ipykernel)",
   "language": "python",
   "name": "python3"
  },
  "language_info": {
   "codemirror_mode": {
    "name": "ipython",
    "version": 3
   },
   "file_extension": ".py",
   "mimetype": "text/x-python",
   "name": "python",
   "nbconvert_exporter": "python",
   "pygments_lexer": "ipython3",
   "version": "3.9.13"
  }
 },
 "nbformat": 4,
 "nbformat_minor": 5
}
